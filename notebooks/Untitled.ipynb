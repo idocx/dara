{
 "cells": [
  {
   "cell_type": "markdown",
   "id": "eb19db0b-b9cc-4135-97a3-6557b28dff17",
   "metadata": {},
   "source": [
    "# Example Refinement"
   ]
  },
  {
   "cell_type": "code",
   "execution_count": null,
   "id": "c9a09766-a641-49d8-a83b-7aff5f3a448d",
   "metadata": {},
   "outputs": [],
   "source": [
    "from dara"
   ]
  }
 ],
 "metadata": {
  "kernelspec": {
   "display_name": "refinement",
   "language": "python",
   "name": "refinement"
  },
  "language_info": {
   "codemirror_mode": {
    "name": "ipython",
    "version": 3
   },
   "file_extension": ".py",
   "mimetype": "text/x-python",
   "name": "python",
   "nbconvert_exporter": "python",
   "pygments_lexer": "ipython3",
   "version": "3.11.5"
  }
 },
 "nbformat": 4,
 "nbformat_minor": 5
}
