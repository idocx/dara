{
 "cells": [
  {
   "cell_type": "markdown",
   "id": "eb19db0b-b9cc-4135-97a3-6557b28dff17",
   "metadata": {},
   "source": [
    "# Tutorial: Automated Refinement\n",
    "Perform a simple automated refinement on a CaNi(PO3)4 sample containing impurity."
   ]
  },
  {
   "cell_type": "code",
   "execution_count": 15,
   "id": "c9a09766-a641-49d8-a83b-7aff5f3a448d",
   "metadata": {},
   "outputs": [
    {
     "name": "stdout",
     "output_type": "stream",
     "text": [
      "The autoreload extension is already loaded. To reload it, use:\n",
      "  %reload_ext autoreload\n"
     ]
    }
   ],
   "source": [
    "from dara.refine import do_refinement\n",
    "from pathlib import Path\n",
    "import glob\n",
    "\n",
    "%load_ext autoreload\n",
    "%autoreload 2"
   ]
  },
  {
   "cell_type": "code",
   "execution_count": 16,
   "id": "5c7521f2",
   "metadata": {},
   "outputs": [],
   "source": [
    "data = Path(\"tutorial_data\")\n",
    "cif_paths = list(data.glob(\"*.cif\"))\n",
    "\n",
    "pattern_fn = \"CaNi(PO3)4_800_240_Ca(OH)2_(NH4)2HPO4_NiO.xy\""
   ]
  },
  {
   "cell_type": "code",
   "execution_count": 17,
   "id": "0485d5fe-9e6b-4b12-b900-632ce10356b7",
   "metadata": {},
   "outputs": [],
   "source": [
    "refinement = do_refinement(data / pattern_fn, cif_paths)"
   ]
  },
  {
   "cell_type": "code",
   "execution_count": 18,
   "id": "c1f08dae",
   "metadata": {},
   "outputs": [
    {
     "data": {
      "text/plain": [
       "{'raw_lst': 'Rietveld refinement to file(s) CaNi(PO3)4_800_240_Ca(OH)2_(NH4)2HPO4_NiO.xy\\nBGMN version 4.2.23, 8301 measured points, 486 peaks, 22 parameters\\nStart: Thu Dec 21 15:37:53 2023; End: Thu Dec 21 15:37:54 2023\\n22 iteration steps\\n\\nRp=4.71%  Rpb=51.23%  R=7.92%  Rwp=6.83% Rexp=2.06%\\nDurbin-Watson d=0.19\\n1-rho=15.4%\\n\\nGlobal parameters and GOALs\\n****************************\\nQCaNi=ERROR\\nQNiO225sym=ERROR\\nEPS2=-0.003273+-0.000021\\n\\nLocal parameters and GOALs for phase CaNi(PO3)415sym\\n******************************************************\\nSpacegroupNo=15\\nHermannMauguin=C12/c1\\nXrayDensity=2.994\\nRphase=9.08%\\nUNIT=NM\\nA=1.21267+-0.00012\\nB=0.86804+-0.00013\\nC=0.989570\\nBETA=117.9897+-0.0083\\nk1=0\\nB1=0.00852+-0.00019\\nGEWICHT=0.2548+-0.0029\\nGrainSize(1,1,1)=49.8+-1.1\\nAtomic positions for phase CaNi(PO3)415sym\\n---------------------------------------------\\n  4     0.0000  0.0471  0.2500     E=(CA(1.0000))\\n  4     0.2500  0.2500  0.5000     E=(NI(1.0000))\\n  8     0.5032  0.7764  0.9745     E=(P(1.0000))\\n  8     0.1886  0.4918  0.1945     E=(P(1.0000))\\n  8     0.5301  0.6381  0.9104     E=(O(1.0000))\\n  8     0.5615  0.7547  0.4291     E=(O(1.0000))\\n  8     0.5720  0.8975  0.6568     E=(O(1.0000))\\n  8     0.1328  0.3624  0.0668     E=(O(1.0000))\\n  8     0.2169  0.0802  0.3344     E=(O(1.0000))\\n  8     0.2293  0.4226  0.3439     E=(O(1.0000))\\n\\nLocal parameters and GOALs for phase NiO225sym\\n******************************************************\\nSpacegroupNo=225\\nHermannMauguin=F4/m-32/m\\nXrayDensity=6.725\\nRphase=6.19%\\nUNIT=NM\\nA=0.419433+-0.000035\\nk1=0.02+-0.28\\nB1=0.0085+-0.0013\\nGEWICHT=0.02343+-0.00087\\nGrainSize(1,1,1)=48.9+-3.8\\nAtomic positions for phase NiO225sym\\n---------------------------------------------\\n  4     0.0000  0.0000  0.0000     E=(NI(1.0000))\\n  4     0.5000  0.5000  0.5000     E=(O(1.0000))\\n',\n",
       " 'num_steps': 22,\n",
       " 'Rp': 4.71,\n",
       " 'Rpb': 51.23,\n",
       " 'R': 7.92,\n",
       " 'Rwp': 6.83,\n",
       " 'Rexp': 2.06,\n",
       " 'd': 0.19,\n",
       " '1-rho': 15.4,\n",
       " 'QCaNi': None,\n",
       " 'QNiO225sym': None,\n",
       " 'EPS2': (-0.003273, 2.1e-05),\n",
       " 'phases_results': {'CaNi(PO3)415sym': {'SpacegroupNo': 15,\n",
       "   'HermannMauguin': 'C12/c1',\n",
       "   'XrayDensity': 2.994,\n",
       "   'Rphase': 9.08,\n",
       "   'UNIT': 'NM',\n",
       "   'A': (1.21267, 0.00012),\n",
       "   'B': (0.86804, 0.00013),\n",
       "   'C': 0.98957,\n",
       "   'BETA': (117.9897, 0.0083),\n",
       "   'k1': 0,\n",
       "   'B1': (0.00852, 0.00019),\n",
       "   'GEWICHT': (0.2548, 0.0029)},\n",
       "  'NiO225sym': {'SpacegroupNo': 225,\n",
       "   'HermannMauguin': 'F4/m-32/m',\n",
       "   'XrayDensity': 6.725,\n",
       "   'Rphase': 6.19,\n",
       "   'UNIT': 'NM',\n",
       "   'A': (0.419433, 3.5e-05),\n",
       "   'k1': (0.02, 0.28),\n",
       "   'B1': (0.0085, 0.0013),\n",
       "   'GEWICHT': (0.02343, 0.00087)}}}"
      ]
     },
     "execution_count": 18,
     "metadata": {},
     "output_type": "execute_result"
    }
   ],
   "source": [
    "refinement"
   ]
  },
  {
   "cell_type": "code",
   "execution_count": null,
   "id": "331059d5",
   "metadata": {},
   "outputs": [],
   "source": []
  }
 ],
 "metadata": {
  "kernelspec": {
   "display_name": "refinement",
   "language": "python",
   "name": "python3"
  },
  "language_info": {
   "codemirror_mode": {
    "name": "ipython",
    "version": 3
   },
   "file_extension": ".py",
   "mimetype": "text/x-python",
   "name": "python",
   "nbconvert_exporter": "python",
   "pygments_lexer": "ipython3",
   "version": "3.11.5"
  }
 },
 "nbformat": 4,
 "nbformat_minor": 5
}
